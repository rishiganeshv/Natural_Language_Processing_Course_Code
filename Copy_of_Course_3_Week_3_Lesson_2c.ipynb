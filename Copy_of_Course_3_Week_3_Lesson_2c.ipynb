{
  "nbformat": 4,
  "nbformat_minor": 0,
  "metadata": {
    "colab": {
      "name": "Copy of Course 3 - Week 3 - Lesson 2c.ipynb",
      "version": "0.3.2",
      "provenance": [],
      "collapsed_sections": [],
      "include_colab_link": true
    },
    "kernelspec": {
      "name": "python3",
      "display_name": "Python 3"
    },
    "accelerator": "GPU"
  },
  "cells": [
    {
      "cell_type": "markdown",
      "metadata": {
        "id": "view-in-github",
        "colab_type": "text"
      },
      "source": [
        "<a href=\"https://colab.research.google.com/github/rishiganeshv/Natural_Language_Processing_Course_Code/blob/master/Copy_of_Course_3_Week_3_Lesson_2c.ipynb\" target=\"_parent\"><img src=\"https://colab.research.google.com/assets/colab-badge.svg\" alt=\"Open In Colab\"/></a>"
      ]
    },
    {
      "cell_type": "code",
      "metadata": {
        "id": "jGwXGIXvFhXW",
        "colab_type": "code",
        "outputId": "af163e9e-1f2b-4058-926f-f9fec62f7ed2",
        "colab": {
          "base_uri": "https://localhost:8080/",
          "height": 1000
        }
      },
      "source": [
        "import json\n",
        "import tensorflow as tf\n",
        "\n",
        "from tensorflow.keras.preprocessing.text import Tokenizer\n",
        "from tensorflow.keras.preprocessing.sequence import pad_sequences\n",
        "\n",
        "!wget --no-check-certificate \\\n",
        "    https://storage.googleapis.com/laurencemoroney-blog.appspot.com/sarcasm.json \\\n",
        "    -O /tmp/sarcasm.json\n",
        "\n",
        "vocab_size = 1000\n",
        "embedding_dim = 16\n",
        "max_length = 120\n",
        "trunc_type='post'\n",
        "padding_type='post'\n",
        "oov_tok = \"<OOV>\"\n",
        "training_size = 20000\n",
        "\n",
        "\n",
        "with open(\"/tmp/sarcasm.json\", 'r') as f:\n",
        "    datastore = json.load(f)\n",
        "\n",
        "\n",
        "sentences = []\n",
        "labels = []\n",
        "urls = []\n",
        "for item in datastore:\n",
        "    sentences.append(item['headline'])\n",
        "    labels.append(item['is_sarcastic'])\n",
        "\n",
        "training_sentences = sentences[0:training_size]\n",
        "testing_sentences = sentences[training_size:]\n",
        "training_labels = labels[0:training_size]\n",
        "testing_labels = labels[training_size:]\n",
        "\n",
        "tokenizer = Tokenizer(num_words=vocab_size, oov_token=oov_tok)\n",
        "tokenizer.fit_on_texts(training_sentences)\n",
        "\n",
        "word_index = tokenizer.word_index\n",
        "\n",
        "training_sequences = tokenizer.texts_to_sequences(training_sentences)\n",
        "training_padded = pad_sequences(training_sequences, maxlen=max_length, padding=padding_type, truncating=trunc_type)\n",
        "\n",
        "testing_sequences = tokenizer.texts_to_sequences(testing_sentences)\n",
        "testing_padded = pad_sequences(testing_sequences, maxlen=max_length, padding=padding_type, truncating=trunc_type)\n",
        "\n",
        "model = tf.keras.Sequential([\n",
        "    tf.keras.layers.Embedding(vocab_size, embedding_dim, input_length=max_length),\n",
        "    tf.keras.layers.Conv1D(128, 5, activation='relu'),\n",
        "    tf.keras.layers.GlobalMaxPooling1D(),\n",
        "    tf.keras.layers.Dense(24, activation='relu'),\n",
        "    tf.keras.layers.Dense(1, activation='sigmoid')\n",
        "])\n",
        "model.compile(loss='binary_crossentropy',optimizer='adam',metrics=['accuracy'])\n",
        "model.summary()\n",
        "\n",
        "num_epochs = 50\n",
        "history = model.fit(training_padded, training_labels, epochs=num_epochs, validation_data=(testing_padded, testing_labels), verbose=1)\n",
        "\n"
      ],
      "execution_count": 0,
      "outputs": [
        {
          "output_type": "stream",
          "text": [
            "--2019-08-11 16:09:29--  https://storage.googleapis.com/laurencemoroney-blog.appspot.com/sarcasm.json\n",
            "Resolving storage.googleapis.com (storage.googleapis.com)... 172.217.214.128, 2607:f8b0:4001:c07::80\n",
            "Connecting to storage.googleapis.com (storage.googleapis.com)|172.217.214.128|:443... connected.\n",
            "HTTP request sent, awaiting response... 200 OK\n",
            "Length: 5643545 (5.4M) [application/json]\n",
            "Saving to: ‘/tmp/sarcasm.json’\n",
            "\n",
            "\r/tmp/sarcasm.json     0%[                    ]       0  --.-KB/s               \r/tmp/sarcasm.json   100%[===================>]   5.38M  --.-KB/s    in 0.09s   \n",
            "\n",
            "2019-08-11 16:09:30 (60.7 MB/s) - ‘/tmp/sarcasm.json’ saved [5643545/5643545]\n",
            "\n"
          ],
          "name": "stdout"
        },
        {
          "output_type": "stream",
          "text": [
            "WARNING: Logging before flag parsing goes to stderr.\n",
            "W0811 16:09:32.697145 140410048698240 deprecation.py:506] From /usr/local/lib/python3.6/dist-packages/tensorflow/python/keras/initializers.py:119: calling RandomUniform.__init__ (from tensorflow.python.ops.init_ops) with dtype is deprecated and will be removed in a future version.\n",
            "Instructions for updating:\n",
            "Call initializer instance with the dtype argument instead of passing it to the constructor\n",
            "W0811 16:09:32.700297 140410048698240 deprecation.py:506] From /usr/local/lib/python3.6/dist-packages/tensorflow/python/ops/init_ops.py:1251: calling VarianceScaling.__init__ (from tensorflow.python.ops.init_ops) with dtype is deprecated and will be removed in a future version.\n",
            "Instructions for updating:\n",
            "Call initializer instance with the dtype argument instead of passing it to the constructor\n",
            "W0811 16:09:32.826460 140410048698240 deprecation.py:323] From /usr/local/lib/python3.6/dist-packages/tensorflow/python/ops/nn_impl.py:180: add_dispatch_support.<locals>.wrapper (from tensorflow.python.ops.array_ops) is deprecated and will be removed in a future version.\n",
            "Instructions for updating:\n",
            "Use tf.where in 2.0, which has the same broadcast rule as np.where\n"
          ],
          "name": "stderr"
        },
        {
          "output_type": "stream",
          "text": [
            "Model: \"sequential\"\n",
            "_________________________________________________________________\n",
            "Layer (type)                 Output Shape              Param #   \n",
            "=================================================================\n",
            "embedding (Embedding)        (None, 120, 16)           16000     \n",
            "_________________________________________________________________\n",
            "conv1d (Conv1D)              (None, 116, 128)          10368     \n",
            "_________________________________________________________________\n",
            "global_max_pooling1d (Global (None, 128)               0         \n",
            "_________________________________________________________________\n",
            "dense (Dense)                (None, 24)                3096      \n",
            "_________________________________________________________________\n",
            "dense_1 (Dense)              (None, 1)                 25        \n",
            "=================================================================\n",
            "Total params: 29,489\n",
            "Trainable params: 29,489\n",
            "Non-trainable params: 0\n",
            "_________________________________________________________________\n",
            "Train on 20000 samples, validate on 6709 samples\n",
            "Epoch 1/50\n",
            "20000/20000 [==============================] - 6s 307us/sample - loss: 0.4697 - acc: 0.7617 - val_loss: 0.4144 - val_acc: 0.8059\n",
            "Epoch 2/50\n",
            "20000/20000 [==============================] - 3s 130us/sample - loss: 0.3581 - acc: 0.8380 - val_loss: 0.3965 - val_acc: 0.8195\n",
            "Epoch 3/50\n",
            "20000/20000 [==============================] - 3s 129us/sample - loss: 0.3214 - acc: 0.8563 - val_loss: 0.4006 - val_acc: 0.8208\n",
            "Epoch 4/50\n",
            "20000/20000 [==============================] - 3s 129us/sample - loss: 0.2888 - acc: 0.8765 - val_loss: 0.4276 - val_acc: 0.8055\n",
            "Epoch 5/50\n",
            "20000/20000 [==============================] - 3s 130us/sample - loss: 0.2578 - acc: 0.8905 - val_loss: 0.4252 - val_acc: 0.8216\n",
            "Epoch 6/50\n",
            "20000/20000 [==============================] - 3s 129us/sample - loss: 0.2258 - acc: 0.9069 - val_loss: 0.4620 - val_acc: 0.8083\n",
            "Epoch 7/50\n",
            "20000/20000 [==============================] - 3s 132us/sample - loss: 0.1933 - acc: 0.9220 - val_loss: 0.5074 - val_acc: 0.8040\n",
            "Epoch 8/50\n",
            "20000/20000 [==============================] - 3s 130us/sample - loss: 0.1618 - acc: 0.9370 - val_loss: 0.5680 - val_acc: 0.8070\n",
            "Epoch 9/50\n",
            "20000/20000 [==============================] - 3s 128us/sample - loss: 0.1368 - acc: 0.9478 - val_loss: 0.6021 - val_acc: 0.7977\n",
            "Epoch 10/50\n",
            "20000/20000 [==============================] - 3s 129us/sample - loss: 0.1109 - acc: 0.9596 - val_loss: 0.7007 - val_acc: 0.8019\n",
            "Epoch 11/50\n",
            "20000/20000 [==============================] - 3s 130us/sample - loss: 0.0937 - acc: 0.9677 - val_loss: 0.7955 - val_acc: 0.7951\n",
            "Epoch 12/50\n",
            "20000/20000 [==============================] - 3s 130us/sample - loss: 0.0784 - acc: 0.9721 - val_loss: 0.8332 - val_acc: 0.7949\n",
            "Epoch 13/50\n",
            "20000/20000 [==============================] - 3s 131us/sample - loss: 0.0686 - acc: 0.9761 - val_loss: 0.9949 - val_acc: 0.7943\n",
            "Epoch 14/50\n",
            "20000/20000 [==============================] - 3s 129us/sample - loss: 0.0584 - acc: 0.9794 - val_loss: 1.0235 - val_acc: 0.7931\n",
            "Epoch 15/50\n",
            "20000/20000 [==============================] - 3s 130us/sample - loss: 0.0512 - acc: 0.9823 - val_loss: 1.0876 - val_acc: 0.7931\n",
            "Epoch 16/50\n",
            "20000/20000 [==============================] - 3s 129us/sample - loss: 0.0458 - acc: 0.9844 - val_loss: 1.2556 - val_acc: 0.7906\n",
            "Epoch 17/50\n",
            "20000/20000 [==============================] - 3s 130us/sample - loss: 0.0459 - acc: 0.9826 - val_loss: 1.2745 - val_acc: 0.7842\n",
            "Epoch 18/50\n",
            "20000/20000 [==============================] - 3s 130us/sample - loss: 0.0496 - acc: 0.9803 - val_loss: 1.3038 - val_acc: 0.7818\n",
            "Epoch 19/50\n",
            "20000/20000 [==============================] - 3s 137us/sample - loss: 0.0437 - acc: 0.9838 - val_loss: 1.3840 - val_acc: 0.7819\n",
            "Epoch 20/50\n",
            "20000/20000 [==============================] - 3s 131us/sample - loss: 0.0386 - acc: 0.9854 - val_loss: 1.4521 - val_acc: 0.7837\n",
            "Epoch 21/50\n",
            "20000/20000 [==============================] - 3s 131us/sample - loss: 0.0327 - acc: 0.9883 - val_loss: 1.5191 - val_acc: 0.7904\n",
            "Epoch 22/50\n",
            "20000/20000 [==============================] - 3s 133us/sample - loss: 0.0314 - acc: 0.9887 - val_loss: 1.5321 - val_acc: 0.7833\n",
            "Epoch 23/50\n",
            "20000/20000 [==============================] - 3s 135us/sample - loss: 0.0322 - acc: 0.9873 - val_loss: 1.5666 - val_acc: 0.7874\n",
            "Epoch 24/50\n",
            "20000/20000 [==============================] - 3s 134us/sample - loss: 0.0330 - acc: 0.9868 - val_loss: 1.6284 - val_acc: 0.7855\n",
            "Epoch 25/50\n",
            "20000/20000 [==============================] - 3s 129us/sample - loss: 0.0338 - acc: 0.9871 - val_loss: 1.9194 - val_acc: 0.7831\n",
            "Epoch 26/50\n",
            "20000/20000 [==============================] - 3s 130us/sample - loss: 0.0310 - acc: 0.9872 - val_loss: 1.6806 - val_acc: 0.7909\n",
            "Epoch 27/50\n",
            "20000/20000 [==============================] - 3s 130us/sample - loss: 0.0287 - acc: 0.9886 - val_loss: 1.7685 - val_acc: 0.7864\n",
            "Epoch 28/50\n",
            "20000/20000 [==============================] - 3s 130us/sample - loss: 0.0283 - acc: 0.9893 - val_loss: 1.8990 - val_acc: 0.7821\n",
            "Epoch 29/50\n",
            "20000/20000 [==============================] - 3s 129us/sample - loss: 0.0251 - acc: 0.9905 - val_loss: 1.8727 - val_acc: 0.7840\n",
            "Epoch 30/50\n",
            "20000/20000 [==============================] - 3s 130us/sample - loss: 0.0255 - acc: 0.9892 - val_loss: 1.8701 - val_acc: 0.7891\n",
            "Epoch 31/50\n",
            "20000/20000 [==============================] - 3s 130us/sample - loss: 0.0284 - acc: 0.9882 - val_loss: 1.9648 - val_acc: 0.7779\n",
            "Epoch 32/50\n",
            "20000/20000 [==============================] - 3s 131us/sample - loss: 0.0270 - acc: 0.9888 - val_loss: 1.9399 - val_acc: 0.7711\n",
            "Epoch 33/50\n",
            "20000/20000 [==============================] - 3s 131us/sample - loss: 0.0269 - acc: 0.9893 - val_loss: 1.9888 - val_acc: 0.7797\n",
            "Epoch 34/50\n",
            "20000/20000 [==============================] - 3s 129us/sample - loss: 0.0274 - acc: 0.9882 - val_loss: 2.0181 - val_acc: 0.7839\n",
            "Epoch 35/50\n",
            "20000/20000 [==============================] - 3s 129us/sample - loss: 0.0254 - acc: 0.9889 - val_loss: 2.1404 - val_acc: 0.7845\n",
            "Epoch 36/50\n",
            "20000/20000 [==============================] - 3s 129us/sample - loss: 0.0210 - acc: 0.9914 - val_loss: 2.0930 - val_acc: 0.7874\n",
            "Epoch 37/50\n",
            "20000/20000 [==============================] - 3s 129us/sample - loss: 0.0219 - acc: 0.9908 - val_loss: 2.1934 - val_acc: 0.7860\n",
            "Epoch 38/50\n",
            "20000/20000 [==============================] - 3s 130us/sample - loss: 0.0329 - acc: 0.9866 - val_loss: 2.1926 - val_acc: 0.7846\n",
            "Epoch 39/50\n",
            "20000/20000 [==============================] - 3s 129us/sample - loss: 0.0255 - acc: 0.9895 - val_loss: 2.1733 - val_acc: 0.7821\n",
            "Epoch 40/50\n",
            "20000/20000 [==============================] - 3s 129us/sample - loss: 0.0236 - acc: 0.9902 - val_loss: 2.2072 - val_acc: 0.7818\n",
            "Epoch 41/50\n",
            "20000/20000 [==============================] - 3s 130us/sample - loss: 0.0207 - acc: 0.9910 - val_loss: 2.3029 - val_acc: 0.7839\n",
            "Epoch 42/50\n",
            "20000/20000 [==============================] - 3s 129us/sample - loss: 0.0197 - acc: 0.9907 - val_loss: 2.3426 - val_acc: 0.7840\n",
            "Epoch 43/50\n",
            "20000/20000 [==============================] - 3s 131us/sample - loss: 0.0197 - acc: 0.9913 - val_loss: 2.3248 - val_acc: 0.7828\n",
            "Epoch 44/50\n",
            "20000/20000 [==============================] - 3s 130us/sample - loss: 0.0282 - acc: 0.9875 - val_loss: 2.3410 - val_acc: 0.7840\n",
            "Epoch 45/50\n",
            "20000/20000 [==============================] - 3s 129us/sample - loss: 0.0239 - acc: 0.9902 - val_loss: 2.3435 - val_acc: 0.7877\n",
            "Epoch 46/50\n",
            "20000/20000 [==============================] - 3s 128us/sample - loss: 0.0189 - acc: 0.9913 - val_loss: 2.4161 - val_acc: 0.7855\n",
            "Epoch 47/50\n",
            "20000/20000 [==============================] - 3s 127us/sample - loss: 0.0179 - acc: 0.9922 - val_loss: 2.4871 - val_acc: 0.7860\n",
            "Epoch 48/50\n",
            "20000/20000 [==============================] - 3s 128us/sample - loss: 0.0200 - acc: 0.9918 - val_loss: 2.4499 - val_acc: 0.7801\n",
            "Epoch 49/50\n",
            "20000/20000 [==============================] - 3s 127us/sample - loss: 0.0185 - acc: 0.9919 - val_loss: 2.4812 - val_acc: 0.7821\n",
            "Epoch 50/50\n",
            "20000/20000 [==============================] - 3s 128us/sample - loss: 0.0230 - acc: 0.9904 - val_loss: 2.6136 - val_acc: 0.7822\n"
          ],
          "name": "stdout"
        }
      ]
    },
    {
      "cell_type": "code",
      "metadata": {
        "id": "g9DC6dmLF8DC",
        "colab_type": "code",
        "outputId": "d08368db-cde6-4b18-f0ac-f088e292d03f",
        "colab": {
          "base_uri": "https://localhost:8080/",
          "height": 549
        }
      },
      "source": [
        " import matplotlib.pyplot as plt\n",
        "\n",
        "\n",
        "def plot_graphs(history, string):\n",
        "  plt.plot(history.history[string])\n",
        "  plt.plot(history.history['val_'+string])\n",
        "  plt.xlabel(\"Epochs\")\n",
        "  plt.ylabel(string)\n",
        "  plt.legend([string, 'val_'+string])\n",
        "  plt.show()\n",
        "\n",
        "plot_graphs(history, 'acc')\n",
        "plot_graphs(history, 'loss')"
      ],
      "execution_count": 0,
      "outputs": [
        {
          "output_type": "display_data",
          "data": {
            "image/png": "[encoded data removed]",
            "text/plain": [
              "<Figure size 432x288 with 1 Axes>"
            ]
          },
          "metadata": {
            "tags": []
          }
        },
        {
          "output_type": "display_data",
          "data": {
            "image/png": "[encoded data removed]",
            "text/plain": [
              "<Figure size 432x288 with 1 Axes>"
            ]
          },
          "metadata": {
            "tags": []
          }
        }
      ]
    },
    {
      "cell_type": "code",
      "metadata": {
        "id": "7ZEZIUppGhdi",
        "colab_type": "code",
        "colab": {}
      },
      "source": [
        "model.save(\"test.h5\")"
      ],
      "execution_count": 0,
      "outputs": []
    }
  ]
}